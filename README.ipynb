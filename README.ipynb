{
 "cells": [
  {
   "cell_type": "markdown",
   "metadata": {},
   "source": [
    "# ANS\n",
    "___"
   ]
  },
  {
   "cell_type": "markdown",
   "metadata": {},
   "source": [
    "TODO:\n",
    "This simple encode/decode is also not streaming. That is, to put an unbounded number of values into state we would need an infinite length integer."
   ]
  },
  {
   "cell_type": "markdown",
   "metadata": {},
   "source": [
    "# UNDERSTANDING ANS\n",
    "___"
   ]
  },
  {
   "cell_type": "markdown",
   "metadata": {},
   "source": [
    "想象在某个平行宇宙中，我们是一种使用二进制的生物，我们会使用这样一串数字"
   ]
  },
  {
   "cell_type": "code",
   "execution_count": 1,
   "metadata": {},
   "outputs": [],
   "source": [
    "bin_num = b'010001001001'"
   ]
  },
  {
   "cell_type": "markdown",
   "metadata": {},
   "source": [
    "因为我们是二进制生物，所以我们每次写数字都写的很长，消耗很多纸张，导致了热带雨林被砍伐，全球变暖，非常不环保。\n",
    "\n",
    "后来一个关心环境的人想出来一种叫做“编码”的方法，可以将很长的数字融合成一个短的但是没有一个二进制人可以理解的数，他把他的方法中的这个数字叫做$state$。"
   ]
  },
  {
   "cell_type": "code",
   "execution_count": 7,
   "metadata": {},
   "outputs": [],
   "source": [
    "# 他的方法如下\n",
    "def encode_trivial(state, symbol, mod):\n",
    "    assert(symbol >=0 and symbol < mod)\n",
    "    return state * mod + symbol\n",
    "\n",
    "def decode_trivial(state, mod):\n",
    "    return state // mod, state % mod"
   ]
  },
  {
   "cell_type": "code",
   "execution_count": 13,
   "metadata": {},
   "outputs": [
    {
     "name": "stdout",
     "output_type": "stream",
     "text": [
      "0时刻编码的符号symbol_0: 1, 当前的state_0: 0\n",
      "1时刻编码的符号symbol_1: 0, 当前的state_1: 1\n",
      "2时刻编码的符号symbol_2: 0, 当前的state_2: 2\n",
      "3时刻编码的符号symbol_3: 1, 当前的state_3: 4\n",
      "4时刻编码的符号symbol_4: 0, 当前的state_4: 9\n",
      "5时刻编码的符号symbol_5: 0, 当前的state_5: 18\n",
      "6时刻编码的符号symbol_6: 1, 当前的state_6: 36\n",
      "7时刻编码的符号symbol_7: 0, 当前的state_7: 73\n",
      "8时刻编码的符号symbol_8: 0, 当前的state_8: 146\n",
      "9时刻编码的符号symbol_9: 0, 当前的state_9: 292\n",
      "10时刻编码的符号symbol_10: 1, 当前的state_10: 584\n",
      "11时刻编码的符号symbol_11: 0, 当前的state_11: 1169\n",
      "最终state:  2338\n"
     ]
    }
   ],
   "source": [
    "# 使用他的编码方法\n",
    "state = 0\n",
    "for i in range(len(bin_num)):\n",
    "    symbol = bin_num[-1 - i] - b'0'[0]\n",
    "    print(f\"{i}时刻编码的符号symbol_{i}: {symbol}, 当前的state_{i}: {state}\")\n",
    "    state = encode_trivial(state, symbol, 2)\n",
    "print(\"最终state: \", state)"
   ]
  },
  {
   "cell_type": "markdown",
   "metadata": {},
   "source": [
    "可以看见他把需要编码的数叫做$symbol$，比如上面的例子中，一开始的$state$为0，编码了$symbol$ \"1\" 之后，$state$就变成了1，后面又变成了2，4，9，18，36..."
   ]
  },
  {
   "cell_type": "code",
   "execution_count": 4,
   "metadata": {},
   "outputs": [
    {
     "name": "stdout",
     "output_type": "stream",
     "text": [
      "2338\n",
      "1169 0\n",
      "584 1\n",
      "292 0\n",
      "146 0\n",
      "73 0\n",
      "36 1\n",
      "18 0\n",
      "9 0\n",
      "4 1\n",
      "2 0\n",
      "1 0\n",
      "0 1\n"
     ]
    }
   ],
   "source": [
    "# 使用他的解码方法\n",
    "print(\"初始state: \"state)\n",
    "while state > 0:\n",
    "    state, val = decode_trivial(state, 2)\n",
    "    print(state, val)"
   ]
  },
  {
   "cell_type": "markdown",
   "metadata": {},
   "source": [
    "___"
   ]
  },
  {
   "cell_type": "markdown",
   "metadata": {},
   "source": [
    "在另一个时空维度，我们是十进制生物，我们不仅把十进制的数编码成二进制让更笨的被关在计算机里的二进制生物理解，我们还非常贪心的想使用更神奇的超越进制的方法把十进制编码的更短，涉足神的领域"
   ]
  },
  {
   "cell_type": "markdown",
   "metadata": {},
   "source": [
    "假设$s$当前需要编码的符号，即symbol。\n",
    "\n",
    "s的数量为n，它们符合以下关系\n",
    "\n",
    "$$ s \\in A = [s_1, s_2, s_3, ... s_{n- 1}] \\tag{1} $$\n",
    "\n",
    "$$ \\{p_s\\}, s \\in A, \\sum_{i = 0}^{N}{p_{s_i}} = 1 \\tag{1}$$\n",
    "\n",
    "通常使用整数的统计频率来代表概率，本文使用这个例子\n",
    "\n",
    "$$ s \\in A = [a, b, c, d, e], \\text{in which $s_1 = a, s_2 = b,...,s_{n - 1} = A[n - 1]$}  \\tag{1}$$\n",
    "\n",
    "$$F_s \\in FreqTable_s = [2, 5, 8, 0, 1]\\tag{1}$$\n",
    "\n",
    "$F_{s}$为$s$的统计频率，$M$为所有symbol的频率之和。\n",
    "\n",
    "$$M = \\sum_{i = 0}^{n}{F_{s_i}} = 2 + 5 + 8 + 0 + 1 = 16\\tag{1}$$"
   ]
  },
  {
   "cell_type": "code",
   "execution_count": 5,
   "metadata": {},
   "outputs": [
    {
     "data": {
      "text/plain": [
       "16"
      ]
     },
     "execution_count": 5,
     "metadata": {},
     "output_type": "execute_result"
    }
   ],
   "source": [
    "s_table = [\"a\", \"b\", \"c\", \"d\", \"e\"]\n",
    "freq_table = [2, 5, 8, 0, 1]\n",
    "M = sum(freq_table)\n",
    "M"
   ]
  },
  {
   "cell_type": "markdown",
   "metadata": {},
   "source": [
    "\n",
    "ANS的编解码公式\n",
    "\n",
    "编码公式\n",
    "\n",
    "$C: x_{t + 1} = C(x_t, s_t)$\n",
    "$$ X_t = \\lfloor \\frac{X_{t - 1}}{F_{s_t}} \\rfloor * M + Cumu_{s_t} + mod(X_{t - 1}, F_{s_t}) \\tag{1}$$\n"
   ]
  },
  {
   "cell_type": "markdown",
   "metadata": {},
   "source": [
    "其中，$Cumu_s$为$s$的累计频率，满足\n",
    "$$Cumu_{s_{A[n]}} =\n",
    "  \\begin{cases}\n",
    "    F_{s_{n}} + Cumu_{s_{n - 1}}, &\\text{if $n > \\mathcal{0}$}\\\\\n",
    "\t0, &\\text{if $n == \\mathcal{0}$,}\n",
    "  \\end{cases} \\tag{1}\n",
    "$$\n",
    "\n",
    "则\n",
    "$$FreqTable_s = [2, 5, 8, 0, 1]\\tag{1}$$\n",
    "$$ Cumu_s \\in CumuTalbe_s = [0, 2, 7, 15, 15, 16] \\tag{1}$$\n"
   ]
  },
  {
   "cell_type": "code",
   "execution_count": 6,
   "metadata": {},
   "outputs": [],
   "source": [
    "cumu_table = [0, 2, 7, 15, 15, 16]"
   ]
  },
  {
   "cell_type": "markdown",
   "metadata": {},
   "source": [
    "则编码函数可以表示为"
   ]
  },
  {
   "cell_type": "code",
   "execution_count": 42,
   "metadata": {},
   "outputs": [],
   "source": [
    "def C(X_t, s_t):\n",
    "    cumu = cumu_table[s_t]\n",
    "    freq = cumu_table[s_t + 1] - cumu_table[s_t]\n",
    "    return (X_t // freq * M + cumu + X_t % freq)"
   ]
  },
  {
   "cell_type": "code",
   "execution_count": 57,
   "metadata": {},
   "outputs": [
    {
     "name": "stdout",
     "output_type": "stream",
     "text": [
      "state0 is 0\n",
      "symbol1 is e, state1 is 15\n",
      "symbol2 is b, state2 is 50\n",
      "symbol3 is a, state3 is 400\n",
      "symbol4 is c, state4 is 807\n",
      "symbol5 is a, state5 is 6449\n",
      "symbol6 is b, state6 is 20630\n",
      "symbol7 is e, state7 is 330095\n",
      "symbol8 is c, state8 is 660190\n",
      "symbol9 is c, state9 is 1320381\n",
      "20.332522853073755\n"
     ]
    }
   ],
   "source": [
    "X = 0\n",
    "text = \"ebacabecc\"\n",
    "print(f\"state0 is {X}\")\n",
    "for i in range(len(text)):\n",
    "    symbol_index = s_table.index(text[i])\n",
    "    X = C(X, symbol_index)\n",
    "    print(f\"symbol{i + 1} is {text[i]}, state{i + 1} is {X}\")\n",
    "import math\n",
    "print(math.log2(X))"
   ]
  },
  {
   "cell_type": "markdown",
   "metadata": {},
   "source": [
    "\n",
    "解码公式\n",
    "\n",
    "$D: s_t, x_t = D(x_{t + 1})$\n",
    "$$ slot = mod(X_{t+1}, M) \\tag{1}$$\n",
    "$$ s_t = Cumu\\_inv(slot) \\tag{1}$$\n",
    "$$ X_{t} = \\lfloor \\frac{X_{t+1}}{M} \\rfloor * F_{s_{t}} + slot - Cumu_{s_t} \\tag{1}$$\n",
    "\n",
    "ANS通过一种类似栈的方式将$s$编码到一个总的数字当中,即last in first out，这个数字被称为state，设为$X$，则t时刻的state表示为$X_t$，t时刻的symbol表示为$s_t$。\n",
    "\n",
    "ANS的编解码公式"
   ]
  },
  {
   "cell_type": "code",
   "execution_count": 48,
   "metadata": {},
   "outputs": [],
   "source": [
    "def BinarySearch(slot):\n",
    "    low = 0\n",
    "    high = len(cumu_table) - 1\n",
    "    mid = low + (high - low) // 2\n",
    "    while(high - low > 1):\n",
    "        mid = low + (high - low) // 2\n",
    "        if (slot >= cumu_table[mid]):\n",
    "            low = mid\n",
    "        else:\n",
    "            high = mid\n",
    "    return low\n",
    "\n",
    "def D(X_t):\n",
    "    slot = X_t % M\n",
    "    print(f\"slot is {slot}, \", end=\"\")\n",
    "    s_t = BinarySearch(slot)\n",
    "    freq = cumu_table[s_t + 1] - cumu_table[s_t]\n",
    "    cumu = cumu_table[s_t]\n",
    "    return s_t, (X_t // M * freq + slot - cumu)"
   ]
  },
  {
   "cell_type": "code",
   "execution_count": 59,
   "metadata": {},
   "outputs": [
    {
     "name": "stdout",
     "output_type": "stream",
     "text": [
      "symbol table is  ['a', 'b', 'c', 'd', 'e']\n",
      "freq table is  [2, 5, 8, 0, 1]\n",
      "cumu table is  [0, 2, 7, 15, 15, 16]\n",
      "state9 is 1320381\n",
      "slot is 13, symbol9 is c, state8 is 660190\n",
      "slot is 14, symbol8 is c, state7 is 330095\n",
      "slot is 15, symbol7 is e, state6 is 20630\n",
      "slot is 6, symbol6 is b, state5 is 6449\n",
      "slot is 1, symbol5 is a, state4 is 807\n",
      "slot is 7, symbol4 is c, state3 is 400\n",
      "slot is 0, symbol3 is a, state2 is 50\n",
      "slot is 2, symbol2 is b, state1 is 15\n",
      "slot is 15, symbol1 is e, state0 is 0\n"
     ]
    }
   ],
   "source": [
    "X_decode = X\n",
    "print(\"symbol table is \", s_table)\n",
    "print(\"freq table is \", freq_table)\n",
    "print(\"cumu table is \", cumu_table)\n",
    "state_index = 9\n",
    "print(f\"state{state_index} is {X_decode}\")\n",
    "while (X_decode):\n",
    "    symbol_index, X_decode = D(X_decode)\n",
    "    print(f\"symbol{state_index} is {s_table[symbol_index]}, state{state_index - 1} is {X_decode}\")\n",
    "    state_index -= 1"
   ]
  },
  {
   "cell_type": "markdown",
   "metadata": {},
   "source": [
    "下面分析以下编解码过程的结果："
   ]
  },
  {
   "cell_type": "raw",
   "metadata": {},
   "source": [
    "ENCODING:\n",
    "state0 is 0\n",
    "symbol1 is e, state1 is 15\n",
    "symbol2 is b, state2 is 50\n",
    "symbol3 is a, state3 is 400\n",
    "symbol4 is c, state4 is 807\n",
    "symbol5 is a, state5 is 6449\n",
    "symbol6 is b, state6 is 20630\n",
    "symbol7 is e, state7 is 330095\n",
    "symbol8 is c, state8 is 660190\n",
    "symbol9 is c, state9 is 1320381\n",
    "20.332522853073755\n",
    "\n",
    "symbol table    is   ['a', 'b', 'c',  'd',   'e']\n",
    "freq table      is   [2,    5,   8,    0,     1]\n",
    "cumu table      is   [0,    2,   7,  15,15,   16]\n",
    "\n",
    "DECODING:\n",
    "state9 is 1320381\n",
    "slot is 13, symbol9 is c, state8 is 660190\n",
    "slot is 14, symbol8 is c, state7 is 330095\n",
    "slot is 15, symbol7 is e, state6 is 20630\n",
    "slot is 6, symbol6 is b, state5 is 6449\n",
    "slot is 1, symbol5 is a, state4 is 807\n",
    "slot is 7, symbol4 is c, state3 is 400\n",
    "slot is 0, symbol3 is a, state2 is 50\n",
    "slot is 2, symbol2 is b, state1 is 15\n",
    "slot is 15, symbol1 is e, state0 is 0"
   ]
  },
  {
   "cell_type": "markdown",
   "metadata": {},
   "source": [
    "从上面的编解码结果中可以分析出很多有趣的事。\n",
    "\n",
    "首先我们可以看见编码的符号被倒序解码出来。这是ANS的特性，类似于栈，last in first out。用更形象的话来说，编码就像不断地在巧克力球外面包一层锡纸，那么解码的时候，最后被包上的那一层是最先被解开的，最先被包上的那一层是最后解开的。同时我们也可以看见编解码的state是一一对应的，这也和包锡纸的比喻贴合。第三，注意看state8和state7之间的差值大小，可以发现，state8 = state7*2，也就是说计算机表示state8比表示state7多用了一个bit。而从state7到state8编码的符号symbol8是c，c的概率是$ \\frac{8}{16}$，熵为$\\log_{2}\\frac{16}{8} = 1$，也就是说，编码符号c所使用的bit数，正好是它的理论熵，这是熵编码接近理论熵的一个表现。下面分析这些现象是怎么来的。"
   ]
  },
  {
   "cell_type": "markdown",
   "metadata": {},
   "source": [
    "首先\n",
    "\n",
    "$C: x_{t + 1} = C(x_t, s_t)$\n",
    "$$ X_t = \\lfloor \\frac{X_{t - 1}}{F_{s_t}} \\rfloor * M + Cumu_{s_t} + mod(X_{t - 1}, F_{s_t}) \\tag{1}$$\n",
    "\n",
    "那么\n",
    "\n",
    "$$H_{s_t} = \\log_{2}\\frac{M}{F_{s_t}}$$\n",
    "$$\\frac{X_t}{X_{t - 1}} \\approx \\frac{M}{F_{s_t}}$$\n",
    "$$\\log_{2}{X_t} = \\log_{2}X_{t- 1}\\frac{M}{F_{s_t}} = \\log_{2}X_{t - 1} + \\log_{2}\\frac{M}{F_{s_t}} = \\log_{2}X_{t - 1} + H_{s_t}$$\n",
    "\n",
    "这也就意味着，每编码一个符号，ANS的state增加的bit数就是这个符号的熵。当然实际上是非常接近，注意上面$(1)$中的约等于。"
   ]
  },
  {
   "cell_type": "markdown",
   "metadata": {},
   "source": [
    "熵编码是如何解码时找到符号后又完美的返回上一个state的呢？\n",
    "\n",
    "根据解码公式：\n",
    "\n",
    "$$ slot = mod(X_t, M) $$\n",
    "$$=  (\\lfloor \\frac{X_{t - 1}}{F_{s_t}} \\rfloor * M + Cumu_{s_t} + mod(X_{t - 1}, F_{s_t})) \\bmod M $$\n",
    "$$= Cumu_{s_t} + mod(X_{t - 1}, F_{s_t})$$\n",
    "\n",
    "显然$slot$是处于$CumuTalbe_s$中专属于$s_t$的那一段空间的，所以\n",
    "$$ CumuTalbe_s[s_{n}]< slot < CumuTalbe_s[s_{n + 1}] \\tag{1}$$\n",
    "\n",
    "也就是说，$CumuTalbe_s$所表示的数轴区间被分成了不同长度的子区间，而每一个子区间都唯一对应一个符号，只要使得解码时获取到这个符号对应的子区间，就可以知道这个区间对应的符号。\n",
    "\n",
    "看到这里的读者心里可能会疑惑，这里需要这么麻烦吗？单纯的顺序给每个符号一个id不就行了吗，比如['a', 'b', 'c',  'd',   'e']对应[1, 2, 3, 4, 5]，这样不是更简单吗？\n",
    "\n",
    "这一点就和ANS的另一个设计有关。ANS是怎么完整地回到上一状态的。\n",
    "\n",
    "解码公式中\n",
    "\n",
    "$$ X_{t - 1} = \\lfloor \\frac{X_{t}}{M} \\rfloor * F_{s_{t}} + slot - Cumu_{s_t} \\tag{1}$$\n",
    "\n",
    "我们知道在编码公式中\n",
    "\n",
    "$$ X_t = \\lfloor \\frac{X_{t - 1}}{F_{s_t}} \\rfloor * M + Cumu_{s_t} + mod(X_{t - 1}, F_{s_t}) \\tag{1}$$\n",
    "\n",
    "注意\n",
    "\n",
    "$$  Cumu_{s_t} + mod(X_{t - 1}, F_{s_t}) < M \\tag{1}$$\n",
    "\n",
    "则将（1）带入2中可得\n",
    "\n",
    "$$ X_{t - 1} =\\lfloor \\frac{X_{t - 1}}{F_{s_t}} \\rfloor * F_{s_{t}} + slot - Cumu_{s_t} \\tag{1}$$\n",
    "\n",
    "而现在这个公式就很明显的展示出来，解码公式中的\n",
    "\n",
    "$$slot - Cumu_{s_t} = X_{t - 1} - \\lfloor \\frac{X_{t - 1}}{F_{s_t}} \\rfloor * F_{s_{t}} = \\text{roundoff error} \\tag{1}$$\n",
    "\n",
    "即$slot - Cumu_{s_t}$是用来补足$\\lfloor \\frac{X_{t - 1}}{F_{s_t}} \\rfloor$ 的舍入误差的，而\n",
    "$$slot - Cumu_{s_t} = Cumu_{s_t} + mod(X_{t - 1}, F_{s_t}) - Cumu_{s_t} = mod(X_{t - 1}, F_{s_t})$$\n",
    "\n",
    "$mod(X_{t - 1}, F_{s_t})$就正是$\\lfloor \\frac{X_{t - 1}}{F_{s_t}} \\rfloor$时向下取整丢掉的值。\n",
    "\n",
    "比如$state_8 = 660190$，要编码的符号为$c$，频率为$8$，$M= 16$。\n",
    "\n",
    "则$660190 / 8 = 82523 , 6$。\n",
    "\n",
    "而$state_9 = 1320381$，$state_9 /M * F_{st}= 660184$, 正好差$state_8 % F_{st} = 6$，而这个$6$我们通过$slot - cumust$获得。 \n",
    "\n",
    "那么现在可以明了的说，在编码公式中，第一项是为了模拟熵，第二项和第三项是为了在解码时可以找回符号的同时，补足第一项的向下取整误差使得s完整地返回上一个state。这也就是说，如果可以想出别的满足这些条件的构造方式，公式完全可以修改。这也引出了我们优化的点。"
   ]
  },
  {
   "cell_type": "markdown",
   "metadata": {},
   "source": []
  }
 ],
 "metadata": {
  "kernelspec": {
   "display_name": "Python 3.9.13 ('python_3.9')",
   "language": "python",
   "name": "python3"
  },
  "language_info": {
   "codemirror_mode": {
    "name": "ipython",
    "version": 3
   },
   "file_extension": ".py",
   "mimetype": "text/x-python",
   "name": "python",
   "nbconvert_exporter": "python",
   "pygments_lexer": "ipython3",
   "version": "3.9.13"
  },
  "orig_nbformat": 4,
  "vscode": {
   "interpreter": {
    "hash": "65c1c926a3cd00dcd6c279b2c641139630be84b0efcbe2f67eff1fdc623acf27"
   }
  }
 },
 "nbformat": 4,
 "nbformat_minor": 2
}
